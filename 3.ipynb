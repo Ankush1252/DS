{
 "cells": [
  {
   "cell_type": "code",
   "execution_count": null,
   "id": "6e6c451e-91fa-4f1f-9e4f-d6f0ecdfe4f1",
   "metadata": {},
   "outputs": [],
   "source": [
    "import pandas as pd\n",
    "import numpy as np\n",
    "import matplotlib.pyplot as plt\n",
    "import seaborn as sns\n",
    "\n",
    "data=pd.read_csv(\"data.csv\")\n",
    "\n",
    "data.head()\n",
    "\n",
    "data.describe()\n",
    "\n",
    "data[\"age\"].min()\n",
    "\n",
    "data[\"age\"].max()\n",
    "\n",
    "data[\"age\"].std()\n",
    "\n",
    "data[\"age\"].mean()\n",
    "\n",
    "data[\"age\"].median()\n",
    "\n",
    "data[\"income\"].nunique()\n",
    "\n",
    "data.groupby([\"income\",\"age\"]).count()\n",
    "\n",
    "data.groupby([\"income\",\"age\"]).min()\n",
    "\n",
    "data.groupby([\"income\",\"age\"]).max()\n",
    "\n",
    "data.groupby([\"income\",\"age\"]).mean()\n",
    "\n",
    "data.groupby([\"income\",\"age\"]).median()\n",
    "\n",
    "data.groupby([\"income\",\"age\"]).std()\n",
    "# 2\n",
    "\n",
    "import seaborn as sns\n",
    "import pandas as pd\n",
    "import numpy as np\n",
    "\n",
    "data = sns.load_dataset('iris')\n",
    "print('Original Dataset')\n",
    "\n",
    "data.head()\n",
    "\n",
    "data.describe()\n",
    "\n",
    "np.percentile(data[\"sepal_length\"],25)\n",
    "\n",
    "data[\"sepal_length\"].std()\n",
    "\n",
    "data[\"sepal_length\"].quantile(0.25)\n",
    "\n",
    "\n"
   ]
  }
 ],
 "metadata": {
  "kernelspec": {
   "display_name": "Python 3",
   "language": "python",
   "name": "python3"
  },
  "language_info": {
   "codemirror_mode": {
    "name": "ipython",
    "version": 3
   },
   "file_extension": ".py",
   "mimetype": "text/x-python",
   "name": "python",
   "nbconvert_exporter": "python",
   "pygments_lexer": "ipython3",
   "version": "3.8.8"
  }
 },
 "nbformat": 4,
 "nbformat_minor": 5
}
