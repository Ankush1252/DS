{
 "cells": [
  {
   "cell_type": "code",
   "execution_count": 1,
   "id": "69a034d9-48c7-48b9-a61b-02aa16465407",
   "metadata": {},
   "outputs": [],
   "source": [
    "import numpy as np\n",
    "import pandas as pd\n",
    "import matplotlib.pyplot as plt\n",
    "import seaborn as sns\n",
    "\n",
    "df = sns.load_dataset('titanic')\n",
    "\n",
    "df.head()\n",
    "\n",
    "sns.boxplot(\n",
    "    x='survived',\n",
    "    y='age',\n",
    "    hue='sex',\n",
    "    data=df,\n",
    "    order=None,\n",
    "    hue_order=None,\n",
    "    orient=None,\n",
    "    color='pink',\n",
    "    palette=None,\n",
    "    saturation=0.75,\n",
    "    width=0.8,\n",
    "    dodge=True,\n",
    "    fliersize=5,\n",
    "    linewidth=None,\n",
    "    whis=1.5,\n",
    ")\n",
    "\n"
   ]
  }
 ],
 "metadata": {
  "kernelspec": {
   "display_name": "Python 3",
   "language": "python",
   "name": "python3"
  },
  "language_info": {
   "codemirror_mode": {
    "name": "ipython",
    "version": 3
   },
   "file_extension": ".py",
   "mimetype": "text/x-python",
   "name": "python",
   "nbconvert_exporter": "python",
   "pygments_lexer": "ipython3",
   "version": "3.8.8"
  }
 },
 "nbformat": 4,
 "nbformat_minor": 5
}
